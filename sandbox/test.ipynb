{
 "cells": [
  {
   "cell_type": "code",
   "execution_count": 8,
   "metadata": {},
   "outputs": [
    {
     "name": "stdout",
     "output_type": "stream",
     "text": [
      "[ROOT]: /Users/scott/Python/Cadence\n"
     ]
    }
   ],
   "source": [
    "import os\n",
    "import sys\n",
    "\n",
    "pwd = %pwd\n",
    "PROJECT_ROOT_PATH = os.path.join(os.path.abspath(pwd).split('Cadence')[0], 'Cadence')\n",
    "print('[ROOT]: %s' % PROJECT_ROOT_PATH)\n",
    "\n",
    "SOURCE_PATH = os.path.join(PROJECT_ROOT_PATH, 'src')\n",
    "if SOURCE_PATH not in sys.path:\n",
    "    sys.path.append(SOURCE_PATH)"
   ]
  },
  {
   "cell_type": "code",
   "execution_count": 9,
   "metadata": {},
   "outputs": [],
   "source": [
    "from IPython import display\n",
    "from IPython.display import Image\n",
    "\n",
    "import pandas\n",
    "import sqlalchemy as sqla\n",
    "\n",
    "from cadence.analysis.shared.plotting.ScatterPlot import ScatterPlot\n",
    "\n",
    "import plotly.plotly as py\n",
    "from plotly import graph_objs as gobs\n",
    "from plotly import tools as plotlyTools"
   ]
  },
  {
   "cell_type": "code",
   "execution_count": 40,
   "metadata": {},
   "outputs": [
    {
     "name": "stdout",
     "output_type": "stream",
     "text": [
      "[DATABASE URL]: sqlite:////Users/scott/Python/Cadence/resources/local/apps/Cadence/data/tracks.vdb\n"
     ]
    }
   ],
   "source": [
    "tracksDatabasePath = os.path.join(PROJECT_ROOT_PATH, 'resources/local/apps/Cadence/data/tracks.vdb')\n",
    "tracksDatabaseUrl = 'sqlite:///%s' % os.path.abspath(tracksDatabasePath)\n",
    "print('[DATABASE URL]: %s' % tracksDatabaseUrl)\n",
    "\n",
    "tracksConnection = sqla.create_engine(tracksDatabaseUrl)"
   ]
  },
  {
   "cell_type": "code",
   "execution_count": 33,
   "metadata": {},
   "outputs": [
    {
     "data": {
      "text/html": [
       "<div style=\"max-height:1000px;max-width:1500px;overflow:auto;\">\n",
       "<table border=\"1\" class=\"dataframe\">\n",
       "  <thead>\n",
       "    <tr style=\"text-align: right;\">\n",
       "      <th></th>\n",
       "      <th>uid</th>\n",
       "      <th>length</th>\n",
       "      <th>width</th>\n",
       "    </tr>\n",
       "  </thead>\n",
       "  <tbody>\n",
       "    <tr>\n",
       "      <th>0</th>\n",
       "      <td>track1l2hn-1-H4rwvG95REzj</td>\n",
       "      <td>0.30</td>\n",
       "      <td>0.30</td>\n",
       "    </tr>\n",
       "    <tr>\n",
       "      <th>1</th>\n",
       "      <td>track1l2hn-3-b2JMIFKEUW4n</td>\n",
       "      <td>0.21</td>\n",
       "      <td>0.21</td>\n",
       "    </tr>\n",
       "    <tr>\n",
       "      <th>2</th>\n",
       "      <td>track1l2hn-5-3y4rlvV8nApY</td>\n",
       "      <td>0.40</td>\n",
       "      <td>0.23</td>\n",
       "    </tr>\n",
       "    <tr>\n",
       "      <th>3</th>\n",
       "      <td>track1l2hn-7-H1puKAkvo13r</td>\n",
       "      <td>0.33</td>\n",
       "      <td>0.28</td>\n",
       "    </tr>\n",
       "    <tr>\n",
       "      <th>4</th>\n",
       "      <td>track1l2ho-9-9dJv3jnsULPv</td>\n",
       "      <td>0.23</td>\n",
       "      <td>0.28</td>\n",
       "    </tr>\n",
       "  </tbody>\n",
       "</table>\n",
       "</div>"
      ]
     },
     "output_type": "execute_result",
     "metadata": {}
    }
   ],
   "source": [
    "frame = pandas.read_sql_query('SELECT uid,length,width FROM tracks', tracksConnection)\n",
    "frame.head()"
   ]
  },
  {
   "cell_type": "code",
   "execution_count": 34,
   "metadata": {},
   "outputs": [
    {
     "data": {
      "text/html": [
       "<iframe id=\"igraph\" scrolling=\"no\" style=\"border:none;\"seamless=\"seamless\" src=\"https://plot.ly/~teradjunct/23.embed\" height=\"525\" width=\"100%\"></iframe>"
      ]
     },
     "output_type": "execute_result",
     "metadata": {}
    }
   ],
   "source": [
    "trace1 = gobs.Scatter(\n",
    "    x=frame.length,\n",
    "    y=frame.width,\n",
    "    mode='markers',\n",
    "    marker=gobs.Marker(\n",
    "        color='rgb(164, 194, 244)',\n",
    "        size=12,\n",
    "        line=gobs.Line(color='white', width=0.5) ))\n",
    "\n",
    "data = gobs.Data([trace1])\n",
    "layout = gobs.Layout(\n",
    "    title='Quarter 1 Growth',\n",
    "    xaxis=gobs.XAxis(title='GDP per Capita', zeroline=False),\n",
    "    yaxis=gobs.YAxis(title='Percent', showline=False) )\n",
    "\n",
    "fig = gobs.Figure(data=data, layout=layout)\n",
    "py.iplot(fig, filename='test-plot', world_readable=True)"
   ]
  },
  {
   "cell_type": "code",
   "execution_count": null,
   "metadata": {},
   "outputs": [],
   "source": [
    ""
   ]
  }
 ],
 "metadata": {
  "kernelspec": {
   "display_name": "Python 3",
   "language": "python",
   "name": "python3"
  },
  "language_info": {
   "codemirror_mode": {
    "name": "ipython",
    "version": 3.0
   },
   "file_extension": ".py",
   "mimetype": "text/x-python",
   "name": "python",
   "nbconvert_exporter": "python",
   "pygments_lexer": "ipython3",
   "version": "3.4.3"
  }
 },
 "nbformat": 4,
 "nbformat_minor": 0
}